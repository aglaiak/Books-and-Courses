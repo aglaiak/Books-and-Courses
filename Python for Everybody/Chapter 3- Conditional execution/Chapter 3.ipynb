{
 "cells": [
  {
   "cell_type": "markdown",
   "id": "f4f47d3b-4f27-4a5d-bfaa-20710fb8fecd",
   "metadata": {
    "tags": []
   },
   "source": [
    "### Exercise 1: Rewrite your pay computation to give the employee 1.5 times the hourly rate for hours worked above 40 hours"
   ]
  },
  {
   "cell_type": "markdown",
   "id": "0910a269-a3a6-42b9-8d39-55a0ea6dce6a",
   "metadata": {},
   "source": [
    "Enter Hours: 45  <br>\n",
    "Enter Rate: 40 <br>\n",
    "Pay: 475.0"
   ]
  },
  {
   "cell_type": "markdown",
   "id": "19b5bd90-40ad-40fc-b94c-48d7557ac67e",
   "metadata": {},
   "source": [
    "Define the initial pay rate and ask the user to enter the amount of hours they worked"
   ]
  },
  {
   "cell_type": "code",
   "execution_count": 3,
   "id": "b3765420-7620-4dd3-af48-7d77f6b83c98",
   "metadata": {},
   "outputs": [
    {
     "name": "stdin",
     "output_type": "stream",
     "text": [
      "How many hours you worked? 45\n"
     ]
    }
   ],
   "source": [
    "rate=10 \n",
    "hours=float(input('How many hours you worked?'))\n"
   ]
  },
  {
   "cell_type": "markdown",
   "id": "d74a1d16-2811-4923-9c99-716b32ac469f",
   "metadata": {},
   "source": [
    "Conditional that will adjust the pay based on the amount (if present) of additional time. <br>\n",
    "<code>**addhours**</code> = calculates the amount of additional working time by subtracting 40 from the input value and works only if the input value exceeds the 40. <br>\n",
    "<code>**addpay**</code> = calculates the amount of additional pay for only the amount of overtime the employee did. <br>\n",
    "<code>**pay**</code> = calculates the full pay <br>\n",
    "If input is ***less or equal to 40***, then the pay will be calcuated without the additional rate in the else clause. "
   ]
  },
  {
   "cell_type": "code",
   "execution_count": 4,
   "id": "f59463cb-a4fd-4268-a9e4-62a1f78a824c",
   "metadata": {},
   "outputs": [
    {
     "name": "stdout",
     "output_type": "stream",
     "text": [
      "475.0\n"
     ]
    }
   ],
   "source": [
    "if float(hours)>40:\n",
    "         addhours=float(hours-40)\n",
    "         addpay=float(addhours*1.5*10)\n",
    "         pay=float((40*10)+addpay)\n",
    "         print (pay)   \n",
    "else:\n",
    "        print (hours*10)"
   ]
  },
  {
   "cell_type": "markdown",
   "id": "ce90c501-97b2-4c82-92df-ccc48e5b3365",
   "metadata": {},
   "source": [
    "### Exercise 2: Rewrite your pay program using try and except so that your program handles non-numeric input gracefully by printing a message and exiting the program. The following shows two executions of the program: <br>\n",
    "Enter Hours: 20 <br>\n",
    "Enter Rate: nine <br>\n",
    "Error, please enter numeric input <br> <br>\n",
    "Enter Hours: forty <br>\n",
    "Error, please enter numeric input"
   ]
  },
  {
   "cell_type": "code",
   "execution_count": 11,
   "id": "76383d0e-dfe3-4b57-85fd-888b28d2d0ce",
   "metadata": {},
   "outputs": [
    {
     "name": "stdin",
     "output_type": "stream",
     "text": [
      "How many hours you worked? four\n"
     ]
    },
    {
     "name": "stdout",
     "output_type": "stream",
     "text": [
      "Please enter numeric input\n"
     ]
    }
   ],
   "source": [
    "rate=10 \n",
    "\n",
    "try:\n",
    "      hours=float(input('How many hours you worked?'))\n",
    "      if float(hours)>40:\n",
    "             addhours=float(hours-40)\n",
    "             addpay=float(addhours*1.5*10)\n",
    "             pay=float((40*10)+addpay)\n",
    "             print (pay)  \n",
    "      else:\n",
    "             print (hours*10)\n",
    "except: \n",
    "        print('Please enter numeric input')     \n",
    "    \n"
   ]
  },
  {
   "cell_type": "markdown",
   "id": "a2cf9642-1a5c-40bf-98ed-872d10301c95",
   "metadata": {},
   "source": [
    "### Exercise 3: Write a program to prompt for a score between 0.0 and 1.0. If the score is out of range, print an error message. If the score is between 0.0 and 10, print a grade using the following table: \n",
    "\n",
    "Score|Grade\n",
    ":----|:-----\n",
    "\\>=0.9|A\n",
    "\\>=0.8|B\n",
    "\\>=0.7|C\n",
    "\\>=0.6|D\n",
    "  <0.6|F\n",
    "\n",
    "Enter score= 0.95 <br>\n",
    "A <br><br>\n",
    "Enter score: perfect <br>\n",
    "Bad score <br><br>\n",
    "Enter score: 10.0 <br>\n",
    "Bad score <br><br>\n",
    "Enter score: 0.75 <br>\n",
    "C <br><br>\n",
    "Enter score: 0.5 <br>\n",
    "F\n"
   ]
  },
  {
   "cell_type": "code",
   "execution_count": null,
   "id": "bfc55c8e-5f20-4c88-a3e1-c43ce6602799",
   "metadata": {},
   "outputs": [],
   "source": [
    "Prompting the user to enter their score"
   ]
  },
  {
   "cell_type": "code",
   "execution_count": 68,
   "id": "59b9942d-09c1-4077-b900-9abfd2c0b1e5",
   "metadata": {},
   "outputs": [
    {
     "name": "stdin",
     "output_type": "stream",
     "text": [
      "Please enter your score 2.5\n"
     ]
    },
    {
     "name": "stdout",
     "output_type": "stream",
     "text": [
      "Bad score\n"
     ]
    }
   ],
   "source": [
    "score= input('Please enter your score')\n"
   ]
  },
  {
   "cell_type": "markdown",
   "id": "843ea01f-fcc8-4359-8a29-e3d5f05697c5",
   "metadata": {},
   "source": [
    "Putting the value into conditional \"if\" clauses. <br>\n",
    "The first <code> if </code> will also filter any values that are outside of the required score range. <br>\n",
    "Each of the following <code> if </code> will associate a value to a grade ranging from A to D. <br>\n",
    "With the <code> else </code> clause we associate any value below 0.6 to the grade F.\n",
    "<code> try </code> and <code> except </code> are used to catch any exceptions on the given input (e.g text)"
   ]
  },
  {
   "cell_type": "code",
   "execution_count": null,
   "id": "877c1810-c060-4196-9d2c-486d09f7c91b",
   "metadata": {},
   "outputs": [],
   "source": [
    "\n",
    "try:\n",
    "\n",
    "    if float(score) >=0 and float(score) <=1.0:\n",
    "            if float(score) >= 0.9:\n",
    "                print ('A')\n",
    "            elif float(score) >= 0.8:\n",
    "                print ('B')\n",
    "            elif float(score) >=0.7:\n",
    "                print ('C')\n",
    "            elif float(score) >=0.6:\n",
    "                print ('D')\n",
    "            else:\n",
    "                print ('F')\n",
    "            \n",
    "    else:\n",
    "        print (\"Bad score\")\n",
    "except: \n",
    "    print (\"please enter a numerical value between 0 and 1\")\n",
    "    "
   ]
  }
 ],
 "metadata": {
  "kernelspec": {
   "display_name": "Python 3 (ipykernel)",
   "language": "python",
   "name": "python3"
  },
  "language_info": {
   "codemirror_mode": {
    "name": "ipython",
    "version": 3
   },
   "file_extension": ".py",
   "mimetype": "text/x-python",
   "name": "python",
   "nbconvert_exporter": "python",
   "pygments_lexer": "ipython3",
   "version": "3.9.1"
  }
 },
 "nbformat": 4,
 "nbformat_minor": 5
}
