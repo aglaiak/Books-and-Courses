{
 "cells": [
  {
   "cell_type": "markdown",
   "id": "a7805135",
   "metadata": {},
   "source": [
    "## Chapter 4 - Functions\n",
    "#### Important Built-in functions\n",
    "1.   <code>**len**</code> prints the length of a string\n",
    "2.   <code>**max**</code> prints the largest value in a list\n",
    "3.   <code>**min**</code> prints the smallest value in a list\n",
    "4.   <code>**int**</code> converts any value to an integer\n",
    "5.   <code>**float**</code> converts integers and strings to floating-point numbers\n",
    "6.   <code>**str**</code> converts its argument to a string\n",
    "   "
   ]
  },
  {
   "cell_type": "markdown",
   "id": "3847eaa1-9976-42de-a9d5-ad9d4bbda61a",
   "metadata": {},
   "source": [
    "#### Exercise 1 - Run the program on your system and see what numbers you get. Run the program more than once and see what numbers you get. \n"
   ]
  },
  {
   "cell_type": "code",
   "execution_count": 2,
   "id": "65be3075-d75d-4375-a921-56f56a361d02",
   "metadata": {},
   "outputs": [
    {
     "name": "stdout",
     "output_type": "stream",
     "text": [
      "0.05882569291990669\n",
      "0.603603845555876\n",
      "0.2929761177065978\n",
      "0.036027158952987914\n",
      "0.6399696478378645\n",
      "0.15257880408235547\n",
      "0.29784227609612435\n",
      "0.8718556356351539\n",
      "0.23204743623821833\n",
      "0.12436764112270204\n"
     ]
    }
   ],
   "source": [
    "import random \n",
    "\n",
    "for i in range(10):\n",
    "    x=random.random()\n",
    "    print(x)\n",
    "    "
   ]
  },
  {
   "cell_type": "code",
   "execution_count": null,
   "id": "65929fc6-8fa3-4129-8c4b-346175fb11de",
   "metadata": {},
   "outputs": [],
   "source": [
    "number=input('Please give number between 1-11')\n",
    "\n",
    "for i in range (1,11)\n"
   ]
  },
  {
   "cell_type": "markdown",
   "id": "8e2138bb",
   "metadata": {},
   "source": [
    "##### Knowledge Check\n",
    "\n",
    "1. What is a function? Give a few built-in examples\n",
    "2. What is the difference between fruitful and void functions? "
   ]
  },
  {
   "cell_type": "markdown",
   "id": "465861f0",
   "metadata": {},
   "source": [
    "#### Exercise 6: Rewrite your pay computation with time-and-a-half for overtime and create a function called <code> computepay </code> which takes two parameters (hours and rate)"
   ]
  },
  {
   "cell_type": "markdown",
   "id": "bb8cdae9",
   "metadata": {},
   "source": [
    "We define <code> hours </code> and <code> rate </code> before the definition of <code> computepay </code> function. "
   ]
  },
  {
   "cell_type": "code",
   "execution_count": 68,
   "id": "b2fe973a",
   "metadata": {},
   "outputs": [],
   "source": [
    "hours=(input('how many hours have you worked?'))\n",
    "rate=10 "
   ]
  },
  {
   "cell_type": "markdown",
   "id": "67225f53",
   "metadata": {},
   "source": [
    "Syntax of <code> computepay </code> function with the two parameters (hours and rate) in parenthesis."
   ]
  },
  {
   "cell_type": "code",
   "execution_count": null,
   "id": "436cb481",
   "metadata": {},
   "outputs": [],
   "source": [
    "def computepay(hours,rate):\n",
    "    try:\n",
    "         if float(hours)>40:\n",
    "                    addhours=float(hours)-40\n",
    "                    addpay=float(addhours)*1.5*10\n",
    "                    pay=float(400 + (addpay))\n",
    "                    print (pay)\n",
    "                    \n",
    "         else:\n",
    "                    pay=float(hours)*float(rate)\n",
    "                    print (pay)\n",
    "                    \n",
    "    except: \n",
    "        print('Please enter numeric input') \n",
    "           "
   ]
  },
  {
   "cell_type": "markdown",
   "id": "445d9939",
   "metadata": {},
   "source": [
    "The function contains the try and except block in order to exclude string input <br>\n",
    "In case the user provides with a non-numerical input, they will be notified with the message \"Please enter numeric input\". \n",
    "\n",
    "-  If the given input is higher than 40, then the program defines two variables named as <code> addhours </code> and <code> addpay </code>. <br>\n",
    "<code> addhours </code> calculates the amount of overtime <br> \n",
    "<code> addpay </code> calculates the additional amount of pay, considering the rate increase by 1.5 <br>\n",
    "<code> pay </code> calculates the full pay by adding 400 (40 hours of pay) to <code> addpay </code> \n",
    "\n",
    "- In case the given input is lower than 40, then the program will just multiply the hours with the base rate.\n",
    "\n"
   ]
  },
  {
   "cell_type": "markdown",
   "id": "bb9bb54c",
   "metadata": {},
   "source": [
    "In the last line, we recall the function <code> computepay </code> "
   ]
  },
  {
   "cell_type": "code",
   "execution_count": null,
   "id": "fca722f0",
   "metadata": {},
   "outputs": [],
   "source": [
    "computepay(hours,rate)"
   ]
  },
  {
   "cell_type": "markdown",
   "id": "4d773ccf",
   "metadata": {},
   "source": [
    "#### Exercise 7: Rewrite the grade program from the previous chapter using a function called <code> computegrade </code> that takes a score as its parameter and retruns a grade as a string "
   ]
  },
  {
   "cell_type": "markdown",
   "id": "adef1daa",
   "metadata": {},
   "source": [
    "Asking the user to provide with input about their score and store it into the variable <code> score </code> <br>\n"
   ]
  },
  {
   "cell_type": "code",
   "execution_count": null,
   "id": "5ad45c46",
   "metadata": {},
   "outputs": [],
   "source": [
    "score= input('Please enter your score')"
   ]
  },
  {
   "cell_type": "markdown",
   "id": "7ff3e419",
   "metadata": {},
   "source": [
    "Definition of function <code> computegrade </code> with <code> score </code> as parameter <br>\n",
    "Then, we convert <code> score </code> into a string. "
   ]
  },
  {
   "cell_type": "code",
   "execution_count": null,
   "id": "de4b7115",
   "metadata": {},
   "outputs": [],
   "source": [
    "def computegrade(score):\n",
    "    str(score)"
   ]
  },
  {
   "cell_type": "code",
   "execution_count": null,
   "id": "5da0fdae",
   "metadata": {},
   "outputs": [],
   "source": [
    "  try:\n",
    "\n",
    "        if float(score) >=0 and float(score) <=1.0:\n",
    "                if float(score) >= 0.9:\n",
    "                    print ('A')\n",
    "                elif float(score) >= 0.8:\n",
    "                    print ('B')\n",
    "                elif float(score) >=0.7:\n",
    "                    print ('C')\n",
    "                elif float(score) >=0.6:\n",
    "                    print ('D')\n",
    "                else:\n",
    "                    print ('F')\n",
    "            \n",
    "        else:\n",
    "            print (\"Bad score\")\n",
    "    except: \n",
    "        print (\"please enter a numerical value between 0 and 1\")"
   ]
  },
  {
   "cell_type": "markdown",
   "id": "5b4d0a56",
   "metadata": {},
   "source": [
    "As described in the previous exercise, the try and except blocks are used again to ensure that the input values are numerical <br>\n",
    "- If clause ensures that the given input ranges between 0 and 1.0 <br>\n",
    "- First if detects the A scores (>= 0.9) <br>\n",
    "- First elif detects the B score (>= 0.8). Important to mention that the hierarchical order is important, as >=0.8 in that case means >=0.8 and <0.9! <br>\n",
    "- Second elif detects the C score <br>\n",
    "- Third elif detects the D score <br>\n",
    "- Else detects whatever is not detected, meaning F score <br>\n",
    "\n",
    "The else of the first if detects for values outside of the 0-1.0 range <br>"
   ]
  },
  {
   "cell_type": "code",
   "execution_count": null,
   "id": "ecf21d91",
   "metadata": {},
   "outputs": [],
   "source": [
    "computegrade(score)"
   ]
  },
  {
   "cell_type": "markdown",
   "id": "8239eba9",
   "metadata": {},
   "source": [
    "Last step, is to call for the function as shown above"
   ]
  },
  {
   "cell_type": "code",
   "execution_count": null,
   "id": "4452f076",
   "metadata": {},
   "outputs": [],
   "source": []
  }
 ],
 "metadata": {
  "kernelspec": {
   "display_name": "Python 3 (ipykernel)",
   "language": "python",
   "name": "python3"
  },
  "language_info": {
   "codemirror_mode": {
    "name": "ipython",
    "version": 3
   },
   "file_extension": ".py",
   "mimetype": "text/x-python",
   "name": "python",
   "nbconvert_exporter": "python",
   "pygments_lexer": "ipython3",
   "version": "3.9.1"
  }
 },
 "nbformat": 4,
 "nbformat_minor": 5
}
