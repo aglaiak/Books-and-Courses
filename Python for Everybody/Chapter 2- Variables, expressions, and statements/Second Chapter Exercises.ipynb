{
 "cells": [
  {
   "cell_type": "markdown",
   "id": "535472af-e1b1-4735-b091-af304fc503a7",
   "metadata": {},
   "source": [
    "## Exercise 2"
   ]
  },
  {
   "cell_type": "markdown",
   "id": "40673655-a49d-4e0d-805c-3eab3f19a630",
   "metadata": {},
   "source": [
    "Asking the user to enter their name. The value is saved under the \"name\" variable"
   ]
  },
  {
   "cell_type": "code",
   "execution_count": 1,
   "id": "73c260fd-68a3-4f54-a3c8-6cccb7c2084b",
   "metadata": {},
   "outputs": [
    {
     "name": "stdin",
     "output_type": "stream",
     "text": [
      "Hello what's your name? Aglaia\n"
     ]
    },
    {
     "name": "stdout",
     "output_type": "stream",
     "text": [
      "Hello Aglaia!\n"
     ]
    }
   ],
   "source": [
    "name = input (\"Hello what's your name?\")\n",
    "print (\"Hello\" + \" \"+ name + \"!\")"
   ]
  },
  {
   "cell_type": "markdown",
   "id": "757a2839-3447-4e82-ae4a-ea7a7b154ffe",
   "metadata": {},
   "source": [
    "## Exercise 3"
   ]
  },
  {
   "cell_type": "code",
   "execution_count": 56,
   "id": "1cd78ded-af8c-421c-9e50-c5c90640237f",
   "metadata": {},
   "outputs": [
    {
     "name": "stdin",
     "output_type": "stream",
     "text": [
      "Enter total amount of working hours 3\n",
      "Enter rate per hour 10\n"
     ]
    },
    {
     "name": "stdout",
     "output_type": "stream",
     "text": [
      "30\n"
     ]
    }
   ],
   "source": [
    "hours = input(\"Enter total amount of working hours\")\n",
    "rate= input(\"Enter rate per hour\")\n",
    "\n",
    "#need to convert the input to an integer because the built-in function \"input\" returns what the user typed as a string.\n",
    "\n",
    "pay= int(hours)*int(rate)\n",
    "print(pay)\n"
   ]
  },
  {
   "cell_type": "markdown",
   "id": "6073c047-d2f6-44ba-91bc-d7039e526a89",
   "metadata": {},
   "source": [
    "## Exercise 4"
   ]
  },
  {
   "cell_type": "code",
   "execution_count": 60,
   "id": "4a8cecd8-2a7a-49c5-a366-dd7a7cdcec2c",
   "metadata": {},
   "outputs": [
    {
     "name": "stdout",
     "output_type": "stream",
     "text": [
      "8\n",
      "8.5\n",
      "4.0\n",
      "11\n"
     ]
    }
   ],
   "source": [
    "width=17\n",
    "height= 12.0\n",
    "\n",
    "print (width//2)\n",
    "print (width/2.0)\n",
    "print (height/3)\n",
    "print (1+2*5)"
   ]
  },
  {
   "cell_type": "markdown",
   "id": "d7b1b7a4-472b-459f-a27f-65610629e284",
   "metadata": {},
   "source": [
    "## Exercise 5"
   ]
  },
  {
   "cell_type": "code",
   "execution_count": 64,
   "id": "13f84fce-5b9f-4caa-b186-2c4fdad4c2e9",
   "metadata": {},
   "outputs": [
    {
     "name": "stdin",
     "output_type": "stream",
     "text": [
      "Temperature in Celsius 5\n"
     ]
    },
    {
     "name": "stdout",
     "output_type": "stream",
     "text": [
      "41.0\n"
     ]
    }
   ],
   "source": [
    "Celsius= input(\"Temperature in Celsius\") \n",
    "Fahrenheit = ((9/5)*int(Celsius) +32)\n",
    "\n",
    "print (Fahrenheit)"
   ]
  },
  {
   "cell_type": "markdown",
   "id": "9265ea76-fc92-427c-91cf-1e5cb462e126",
   "metadata": {
    "jp-MarkdownHeadingCollapsed": true,
    "tags": []
   },
   "source": []
  }
 ],
 "metadata": {
  "kernelspec": {
   "display_name": "Python 3 (ipykernel)",
   "language": "python",
   "name": "python3"
  },
  "language_info": {
   "codemirror_mode": {
    "name": "ipython",
    "version": 3
   },
   "file_extension": ".py",
   "mimetype": "text/x-python",
   "name": "python",
   "nbconvert_exporter": "python",
   "pygments_lexer": "ipython3",
   "version": "3.9.1"
  }
 },
 "nbformat": 4,
 "nbformat_minor": 5
}
